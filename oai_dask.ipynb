{
 "cells": [
  {
   "cell_type": "markdown",
   "id": "d885cd90-9929-409c-86de-4a0395ecdcd8",
   "metadata": {},
   "source": [
    "# Parallelize Python code with Dask Delayed"
   ]
  },
  {
   "cell_type": "markdown",
   "id": "8a7922e2-6496-4f5e-b002-c88802e57dfd",
   "metadata": {},
   "source": [
    "## General Python code"
   ]
  },
  {
   "cell_type": "code",
   "execution_count": 4,
   "id": "f01b358f",
   "metadata": {},
   "outputs": [],
   "source": [
    "import csv\n",
    "\n",
    "import requests\n",
    "from dagster_dask import dask_executor\n",
    "from dagster import get_dagster_logger, job, op, Out\n",
    "from dagster import fs_io_manager\n",
    "\n",
    "import numpy as np\n",
    "\n",
    "import itk\n",
    "import vtk\n",
    "from itkwidgets import view\n",
    "import icon_registration.itk_wrapper as itk_wrapper\n",
    "import icon_registration.pretrained_models as pretrained_models\n",
    "import matplotlib.pyplot as plt\n",
    "\n",
    "import sys\n",
    "sys.path.append(\"/data/OAI_analysis_2/oai_analysis_2\")\n",
    "\n",
    "import mesh_processing as mp\n",
    "import os\n",
    "os.environ[\"CUDA_VISIBLE_DEVICES\"]=\"\""
   ]
  },
  {
   "cell_type": "code",
   "execution_count": 17,
   "id": "7de225c8-8f6b-424b-9c60-0b9672821f6f",
   "metadata": {
    "code_folding": [
     2,
     12,
     18,
     29,
     68,
     81,
     95
    ]
   },
   "outputs": [],
   "source": [
    "# All Function Definitions\n",
    "\n",
    "def download_data():\n",
    "    os.system('girder-client --api-url https://data.kitware.com/api/v1 localsync 621a5d784acac99f426c143b OAIData')\n",
    "    \n",
    "    get_dagster_logger().info('Data download done')\n",
    "\n",
    "    image_preprocessed = \"./OAIData/atlas_image.nii.gz\"\n",
    "    atlas_image = \"./OAIData/atlas_image.nii.gz\"\n",
    "    return image_preprocessed, atlas_image\n",
    "\n",
    "@delayed(nout=2)\n",
    "def read_images(image_preprocessed, atlas_image):\n",
    "    image_A = itk.imread(image_preprocessed, itk.D)\n",
    "    image_B = itk.imread(atlas_image, itk.D)\n",
    "    return image_A, image_B\n",
    "\n",
    "@delayed\n",
    "def register_images(image_A, image_B):\n",
    "    model = pretrained_models.OAI_knees_registration_model()\n",
    "    model.to('cpu')\n",
    "\n",
    "    # Register the images\n",
    "    phi_AB, phi_BA = itk_wrapper.register_pair(model, image_A, image_B)\n",
    "\n",
    "    get_dagster_logger().info('Image Registration Done')\n",
    "    return phi_AB\n",
    "\n",
    "@delayed(nout=2)\n",
    "def deform_probmap(phi_AB, image_A, image_B):\n",
    "    fc_prob_file = './OAIData/FC_probmap.nii.gz'\n",
    "    tc_prob_file = './OAIData/TC_probmap.nii.gz'\n",
    "\n",
    "    FC_prob = itk.imread(fc_prob_file)\n",
    "    TC_prob = itk.imread(tc_prob_file)\n",
    "\n",
    "    interpolator = itk.LinearInterpolateImageFunction.New(image_A)\n",
    "    warped_image_FC = itk.resample_image_filter(FC_prob, \n",
    "        transform=phi_AB, \n",
    "        interpolator=interpolator,\n",
    "        size=itk.size(image_B),\n",
    "        output_spacing=itk.spacing(image_B),\n",
    "        output_direction=image_B.GetDirection(),\n",
    "        output_origin=image_B.GetOrigin()\n",
    "    )\n",
    "\n",
    "    warped_image_TC = itk.resample_image_filter(TC_prob, \n",
    "        transform=phi_AB, \n",
    "        interpolator=interpolator,\n",
    "        size=itk.size(image_B),\n",
    "        output_spacing=itk.spacing(image_B),\n",
    "        output_direction=image_B.GetDirection(),\n",
    "        output_origin=image_B.GetOrigin()\n",
    "    )\n",
    "\n",
    "    get_dagster_logger().info('Image Deformation Done')\n",
    "    return warped_image_FC, warped_image_TC\n",
    "\n",
    "@delayed(nout=2)\n",
    "def get_thickness_dask(image, mesh_type):\n",
    "    inner_FC, outer_FC = mp.get_thickness_mesh(image, mesh_type=mesh_type)\n",
    "    return inner_FC, outer_FC\n",
    "    \n",
    "@delayed(nout=2)\n",
    "def get_thickness(warped_image_FC, warped_image_TC):\n",
    "    distance_inner_FC, distance_outer_FC = mp.get_thickness_mesh(warped_image_FC, mesh_type='FC')\n",
    "    distance_inner_TC, distance_outer_TC = mp.get_thickness_mesh(warped_image_TC, mesh_type='TC')\n",
    "\n",
    "    get_dagster_logger().info('Thickness Computation Done')\n",
    "\n",
    "    return distance_inner_FC, distance_inner_TC\n",
    "\n",
    "@delayed(nout=2)\n",
    "def get_paths():\n",
    "    image_preprocessed = \"./OAIData/atlas_image.nii.gz\"\n",
    "    atlas_image = \"./OAIData/atlas_image.nii.gz\"\n",
    "\n",
    "    return image_preprocessed, atlas_image\n",
    "\n",
    "@delayed(nout=2)\n",
    "def register_and_deform(image_A, image_B):\n",
    "    phi_AB                               = register_images(image_A=image_A, image_B=image_B)\n",
    "    warped_image_FC, warped_image_TC     = deform_probmap(phi_AB=phi_AB, image_A=image_A, image_B=image_B)\n",
    "    return warped_image_FC, warped_image_TC\n",
    "\n",
    "@delayed\n",
    "def entire_job(warped_image_FC, warped_image_TC):\n",
    "    distance_inner_FC, distance_inner_TC = get_thickness(warped_image_FC=warped_image_FC, warped_image_TC=warped_image_TC)\n",
    "\n",
    "    writer1 = vtk.vtkPolyDataWriter()\n",
    "    writer1.SetFileName('distance_inner_FC.vtk')\n",
    "    writer1.SetInputData(distance_inner_FC)\n",
    "    writer1.Update()\n",
    "\n",
    "    writer2 = vtk.vtkPolyDataWriter()\n",
    "    writer2.SetFileName('distance_inner_TC.vtk')\n",
    "    writer2.SetInputData(distance_inner_TC)\n",
    "    writer2.Update()\n",
    "\n",
    "@delayed\n",
    "def thickness_compute():\n",
    "    #image_preprocessed, atlas_image = download_data()\n",
    "    #image_preprocessed = \"./OAIData/atlas_image.nii.gz\"\n",
    "    #atlas_image = \"./OAIData/atlas_image.nii.gz\"\n",
    "\n",
    "    #image_preprocessed, atlas_image =  get_paths()\n",
    "    \n",
    "    # In ITKrc3 images can be serialized\n",
    "    image_preprocessed, atlas_image   = get_paths()\n",
    "    image_A, image_B                  = read_images(image_preprocessed, atlas_image)\n",
    "    warped_image_FC, warped_image_TC  = register_and_deform(image_A, image_B)\n",
    "    \n",
    "    distance_inner_FC, distance_outer_FC = mp.get_thickness_mesh(warped_image_FC, mesh_type='FC')\n",
    "    distance_inner_TC, distance_outer_TC = mp.get_thickness_mesh(warped_image_TC, mesh_type='TC')\n",
    "    \n",
    "    return distance_inner_FC, distance_inner_TC\n",
    "    # Rest all the processing is done here\n",
    "    # After mesh serialization this can be splitted into smaller components\n",
    "    # Also working on Transform serialization\n",
    "    #entire_job(warped_image_FC, warped_image_TC)"
   ]
  },
  {
   "cell_type": "markdown",
   "id": "1b2cad51-b434-4549-bd84-818f4237765c",
   "metadata": {},
   "source": [
    "## Dask Delayed"
   ]
  },
  {
   "cell_type": "code",
   "execution_count": 5,
   "id": "4ac23f84-b226-4c12-a71c-ab0b0483ba60",
   "metadata": {},
   "outputs": [
    {
     "name": "stderr",
     "output_type": "stream",
     "text": [
      "Port 8787 is already in use.\n",
      "Perhaps you already have a cluster running?\n",
      "Hosting the HTTP server on port 34913 instead\n"
     ]
    },
    {
     "data": {
      "text/html": [
       "<div>\n",
       "    <div style=\"width: 24px; height: 24px; background-color: #e1e1e1; border: 3px solid #9D9D9D; border-radius: 5px; position: absolute;\"> </div>\n",
       "    <div style=\"margin-left: 48px;\">\n",
       "        <h3 style=\"margin-bottom: 0px;\">Client</h3>\n",
       "        <p style=\"color: #9D9D9D; margin-bottom: 0px;\">Client-8c216b34-bcf6-11ec-b894-1375a53a21ad</p>\n",
       "        <table style=\"width: 100%; text-align: left;\">\n",
       "\n",
       "        <tr>\n",
       "        \n",
       "            <td style=\"text-align: left;\"><strong>Connection method:</strong> Cluster object</td>\n",
       "            <td style=\"text-align: left;\"><strong>Cluster type:</strong> distributed.LocalCluster</td>\n",
       "        \n",
       "        </tr>\n",
       "\n",
       "        \n",
       "            <tr>\n",
       "                <td style=\"text-align: left;\">\n",
       "                    <strong>Dashboard: </strong> <a href=\"http://127.0.0.1:34913/status\" target=\"_blank\">http://127.0.0.1:34913/status</a>\n",
       "                </td>\n",
       "                <td style=\"text-align: left;\"></td>\n",
       "            </tr>\n",
       "        \n",
       "\n",
       "        </table>\n",
       "\n",
       "        \n",
       "            <details>\n",
       "            <summary style=\"margin-bottom: 20px;\"><h3 style=\"display: inline;\">Cluster Info</h3></summary>\n",
       "            <div class=\"jp-RenderedHTMLCommon jp-RenderedHTML jp-mod-trusted jp-OutputArea-output\">\n",
       "    <div style=\"width: 24px; height: 24px; background-color: #e1e1e1; border: 3px solid #9D9D9D; border-radius: 5px; position: absolute;\">\n",
       "    </div>\n",
       "    <div style=\"margin-left: 48px;\">\n",
       "        <h3 style=\"margin-bottom: 0px; margin-top: 0px;\">LocalCluster</h3>\n",
       "        <p style=\"color: #9D9D9D; margin-bottom: 0px;\">0bffd631</p>\n",
       "        <table style=\"width: 100%; text-align: left;\">\n",
       "            <tr>\n",
       "                <td style=\"text-align: left;\">\n",
       "                    <strong>Dashboard:</strong> <a href=\"http://127.0.0.1:34913/status\" target=\"_blank\">http://127.0.0.1:34913/status</a>\n",
       "                </td>\n",
       "                <td style=\"text-align: left;\">\n",
       "                    <strong>Workers:</strong> 1\n",
       "                </td>\n",
       "            </tr>\n",
       "            <tr>\n",
       "                <td style=\"text-align: left;\">\n",
       "                    <strong>Total threads:</strong> 16\n",
       "                </td>\n",
       "                <td style=\"text-align: left;\">\n",
       "                    <strong>Total memory:</strong> 125.73 GiB\n",
       "                </td>\n",
       "            </tr>\n",
       "            \n",
       "            <tr>\n",
       "    <td style=\"text-align: left;\"><strong>Status:</strong> running</td>\n",
       "    <td style=\"text-align: left;\"><strong>Using processes:</strong> True</td>\n",
       "</tr>\n",
       "\n",
       "            \n",
       "        </table>\n",
       "\n",
       "        <details>\n",
       "            <summary style=\"margin-bottom: 20px;\">\n",
       "                <h3 style=\"display: inline;\">Scheduler Info</h3>\n",
       "            </summary>\n",
       "\n",
       "            <div style=\"\">\n",
       "    <div>\n",
       "        <div style=\"width: 24px; height: 24px; background-color: #FFF7E5; border: 3px solid #FF6132; border-radius: 5px; position: absolute;\"> </div>\n",
       "        <div style=\"margin-left: 48px;\">\n",
       "            <h3 style=\"margin-bottom: 0px;\">Scheduler</h3>\n",
       "            <p style=\"color: #9D9D9D; margin-bottom: 0px;\">Scheduler-302499eb-63ab-4026-a162-344fc916c7d9</p>\n",
       "            <table style=\"width: 100%; text-align: left;\">\n",
       "                <tr>\n",
       "                    <td style=\"text-align: left;\">\n",
       "                        <strong>Comm:</strong> tcp://127.0.0.1:44393\n",
       "                    </td>\n",
       "                    <td style=\"text-align: left;\">\n",
       "                        <strong>Workers:</strong> 1\n",
       "                    </td>\n",
       "                </tr>\n",
       "                <tr>\n",
       "                    <td style=\"text-align: left;\">\n",
       "                        <strong>Dashboard:</strong> <a href=\"http://127.0.0.1:34913/status\" target=\"_blank\">http://127.0.0.1:34913/status</a>\n",
       "                    </td>\n",
       "                    <td style=\"text-align: left;\">\n",
       "                        <strong>Total threads:</strong> 16\n",
       "                    </td>\n",
       "                </tr>\n",
       "                <tr>\n",
       "                    <td style=\"text-align: left;\">\n",
       "                        <strong>Started:</strong> Just now\n",
       "                    </td>\n",
       "                    <td style=\"text-align: left;\">\n",
       "                        <strong>Total memory:</strong> 125.73 GiB\n",
       "                    </td>\n",
       "                </tr>\n",
       "            </table>\n",
       "        </div>\n",
       "    </div>\n",
       "\n",
       "    <details style=\"margin-left: 48px;\">\n",
       "        <summary style=\"margin-bottom: 20px;\">\n",
       "            <h3 style=\"display: inline;\">Workers</h3>\n",
       "        </summary>\n",
       "\n",
       "        \n",
       "        <div style=\"margin-bottom: 20px;\">\n",
       "            <div style=\"width: 24px; height: 24px; background-color: #DBF5FF; border: 3px solid #4CC9FF; border-radius: 5px; position: absolute;\"> </div>\n",
       "            <div style=\"margin-left: 48px;\">\n",
       "            <details>\n",
       "                <summary>\n",
       "                    <h4 style=\"margin-bottom: 0px; display: inline;\">Worker: 0</h4>\n",
       "                </summary>\n",
       "                <table style=\"width: 100%; text-align: left;\">\n",
       "                    <tr>\n",
       "                        <td style=\"text-align: left;\">\n",
       "                            <strong>Comm: </strong> tcp://127.0.0.1:41219\n",
       "                        </td>\n",
       "                        <td style=\"text-align: left;\">\n",
       "                            <strong>Total threads: </strong> 16\n",
       "                        </td>\n",
       "                    </tr>\n",
       "                    <tr>\n",
       "                        <td style=\"text-align: left;\">\n",
       "                            <strong>Dashboard: </strong> <a href=\"http://127.0.0.1:41105/status\" target=\"_blank\">http://127.0.0.1:41105/status</a>\n",
       "                        </td>\n",
       "                        <td style=\"text-align: left;\">\n",
       "                            <strong>Memory: </strong> 125.73 GiB\n",
       "                        </td>\n",
       "                    </tr>\n",
       "                    <tr>\n",
       "                        <td style=\"text-align: left;\">\n",
       "                            <strong>Nanny: </strong> tcp://127.0.0.1:44507\n",
       "                        </td>\n",
       "                        <td style=\"text-align: left;\"></td>\n",
       "                    </tr>\n",
       "                    <tr>\n",
       "                        <td colspan=\"2\" style=\"text-align: left;\">\n",
       "                            <strong>Local directory: </strong> /home/pranjal.sahu/OAI/OAI_analysis/coiled-resources/dask-delayed/dask-worker-space/worker-s8thfoub\n",
       "                        </td>\n",
       "                    </tr>\n",
       "\n",
       "                    \n",
       "\n",
       "                    \n",
       "\n",
       "                </table>\n",
       "            </details>\n",
       "            </div>\n",
       "        </div>\n",
       "        \n",
       "\n",
       "    </details>\n",
       "</div>\n",
       "\n",
       "        </details>\n",
       "    </div>\n",
       "</div>\n",
       "            </details>\n",
       "        \n",
       "\n",
       "    </div>\n",
       "</div>"
      ],
      "text/plain": [
       "<Client: 'tcp://127.0.0.1:44393' processes=1 threads=16, memory=125.73 GiB>"
      ]
     },
     "execution_count": 5,
     "metadata": {},
     "output_type": "execute_result"
    }
   ],
   "source": [
    "from dask.distributed import Client, progress\n",
    "client = Client(n_workers=1)\n",
    "client"
   ]
  },
  {
   "cell_type": "markdown",
   "id": "b6371134-fc74-4c84-a8b3-784e1858c501",
   "metadata": {},
   "source": [
    "Open the dashboards!"
   ]
  },
  {
   "cell_type": "code",
   "execution_count": 6,
   "id": "437b9d22-4289-4c21-b3c3-97169ce5c4f1",
   "metadata": {},
   "outputs": [],
   "source": [
    "from dask import delayed, compute, visualize"
   ]
  },
  {
   "cell_type": "code",
   "execution_count": 16,
   "id": "df06d483",
   "metadata": {},
   "outputs": [
    {
     "data": {
      "text/plain": [
       "Delayed('getitem-211c86f37763534c9f1abf7c76d50697')"
      ]
     },
     "execution_count": 16,
     "metadata": {},
     "output_type": "execute_result"
    }
   ],
   "source": [
    "warped_image_FC"
   ]
  },
  {
   "cell_type": "code",
   "execution_count": 18,
   "id": "22cf68ba-9e17-4782-97f9-fb413e679f19",
   "metadata": {},
   "outputs": [],
   "source": [
    "image_preprocessed, atlas_image   = get_paths()\n",
    "\n",
    "image_A, image_B                  = read_images(image_preprocessed, atlas_image)\n",
    "warped_image_FC, warped_image_TC  = register_and_deform(image_A, image_B)\n",
    "\n",
    "distance_inner_FC, distance_outer_FC = get_thickness_dask(warped_image_FC, mesh_type='FC')\n",
    "distance_inner_TC, distance_outer_TC = get_thickness_dask(warped_image_TC, mesh_type='TC')"
   ]
  },
  {
   "cell_type": "markdown",
   "id": "ae3e0768-6835-4470-a48e-526dd4674026",
   "metadata": {},
   "source": [
    "**Note:** Don't do `delayed(inc(i))`"
   ]
  },
  {
   "cell_type": "code",
   "execution_count": 19,
   "id": "299729f7-7c9c-4059-9213-7691bd5ad898",
   "metadata": {},
   "outputs": [
    {
     "data": {
      "image/png": "[encoded data removed]",
      "text/plain": [
       "<IPython.core.display.Image object>"
      ]
     },
     "execution_count": 19,
     "metadata": {},
     "output_type": "execute_result"
    }
   ],
   "source": [
    "visualize(distance_inner_FC)"
   ]
  },
  {
   "cell_type": "markdown",
   "id": "2db56c07-4211-4a35-9c8f-9366efcf2ecc",
   "metadata": {},
   "source": [
    "**Note:** Try to minimize computing."
   ]
  },
  {
   "cell_type": "code",
   "execution_count": 13,
   "id": "4b1690a4-1b5f-4348-b649-824e2d942117",
   "metadata": {},
   "outputs": [
    {
     "name": "stdout",
     "output_type": "stream",
     "text": [
      "CPU times: user 82 ms, sys: 20.2 ms, total: 102 ms\n",
      "Wall time: 2.08 s\n"
     ]
    },
    {
     "data": {
      "text/plain": [
       "(0, 2, 4, 6, 8)"
      ]
     },
     "execution_count": 13,
     "metadata": {},
     "output_type": "execute_result"
    }
   ],
   "source": [
    "%%time\n",
    "\n",
    "l = compute(*l)\n",
    "l"
   ]
  },
  {
   "cell_type": "markdown",
   "id": "8af38169-d1ca-4d45-95a3-da50d281fcd7",
   "metadata": {},
   "source": [
    "### Alternatively..."
   ]
  },
  {
   "cell_type": "code",
   "execution_count": 14,
   "id": "411abc38-e0a6-4614-8249-256ddbd2b715",
   "metadata": {
    "tags": []
   },
   "outputs": [],
   "source": [
    "@delayed\n",
    "def inc(x):\n",
    "    sleep(1)\n",
    "    return x + 1\n",
    "\n",
    "@delayed\n",
    "def dec(x):\n",
    "    sleep(1)\n",
    "    return x - 1\n",
    "\n",
    "@delayed\n",
    "def add(x, y):\n",
    "    sleep(1)\n",
    "    return x + y"
   ]
  },
  {
   "cell_type": "markdown",
   "id": "8b32ae77-23ba-41fa-a306-c8cd54cec927",
   "metadata": {},
   "source": [
    "Or:"
   ]
  },
  {
   "cell_type": "code",
   "execution_count": null,
   "id": "3ed4e19c-344d-4aff-86fc-1fde8e3d1a8a",
   "metadata": {},
   "outputs": [],
   "source": [
    "# inc = delayed(inc)\n",
    "# dec = delayed(dec)\n",
    "# add = delayed(add)"
   ]
  },
  {
   "cell_type": "code",
   "execution_count": 15,
   "id": "6b662987-d3cf-4ab7-8fa5-d1071fa9ffa9",
   "metadata": {},
   "outputs": [
    {
     "name": "stdout",
     "output_type": "stream",
     "text": [
      "CPU times: user 57.5 ms, sys: 5.59 ms, total: 63.1 ms\n",
      "Wall time: 3.02 s\n"
     ]
    }
   ],
   "source": [
    "%%time\n",
    "\n",
    "l = []\n",
    "\n",
    "for i in range(10):\n",
    "    a = inc(i)\n",
    "    b = dec(i)\n",
    "    c = add(a, b)\n",
    "    l.append(c)\n",
    "    \n",
    "l = compute(*l)"
   ]
  },
  {
   "cell_type": "markdown",
   "id": "4f03fbb6-207e-4131-88ef-528e9ad03d87",
   "metadata": {},
   "source": [
    "## Another example: pandas"
   ]
  },
  {
   "cell_type": "code",
   "execution_count": null,
   "id": "65686767-4090-4444-bbe3-9312e18b0d43",
   "metadata": {},
   "outputs": [],
   "source": [
    "# !wget https://coiled-datasets.s3.us-east-2.amazonaws.com/seattle-library-checkouts/checkouts-subset.csv"
   ]
  },
  {
   "cell_type": "code",
   "execution_count": 12,
   "id": "2db7c375-737c-40b3-af33-a1db5a48ccc3",
   "metadata": {},
   "outputs": [],
   "source": [
    "import pandas as pd"
   ]
  },
  {
   "cell_type": "code",
   "execution_count": 13,
   "id": "438fe154-7af4-4eb4-8ddf-7d6610478761",
   "metadata": {},
   "outputs": [
    {
     "name": "stdout",
     "output_type": "stream",
     "text": [
      "CPU times: user 472 µs, sys: 232 µs, total: 704 µs\n",
      "Wall time: 552 µs\n"
     ]
    }
   ],
   "source": [
    "%%time\n",
    "\n",
    "ddf = delayed(pd.read_csv)(\"checkouts-subset.csv\", \n",
    "                           engine='python', \n",
    "                           error_bad_lines=False) # with delayed"
   ]
  },
  {
   "cell_type": "code",
   "execution_count": 14,
   "id": "d090f592-4a33-49d4-b84a-a5fcdaa39581",
   "metadata": {},
   "outputs": [
    {
     "name": "stdout",
     "output_type": "stream",
     "text": [
      "CPU times: user 317 µs, sys: 62 µs, total: 379 µs\n",
      "Wall time: 358 µs\n"
     ]
    }
   ],
   "source": [
    "%%time\n",
    "\n",
    "result = ddf.groupby(\"UsageClass\").Checkouts.sum()"
   ]
  },
  {
   "cell_type": "code",
   "execution_count": 15,
   "id": "c32df82f-c644-495c-a05f-9dd7f85e03bb",
   "metadata": {},
   "outputs": [
    {
     "data": {
      "text/plain": [
       "Delayed('sum-74b130a7-b58b-4da5-9a4a-4b16a731a16f')"
      ]
     },
     "execution_count": 15,
     "metadata": {},
     "output_type": "execute_result"
    }
   ],
   "source": [
    "result"
   ]
  },
  {
   "cell_type": "code",
   "execution_count": 16,
   "id": "09ddcc71-0a8b-468c-b6ce-6da856f83b60",
   "metadata": {},
   "outputs": [
    {
     "data": {
      "text/plain": [
       "UsageClass\n",
       "Digital      8772938\n",
       "Physical    52609482\n",
       "Name: Checkouts, dtype: int64"
      ]
     },
     "execution_count": 16,
     "metadata": {},
     "output_type": "execute_result"
    }
   ],
   "source": [
    "result.compute()"
   ]
  },
  {
   "cell_type": "code",
   "execution_count": 17,
   "id": "848e565f-9c62-434c-a5cb-d0a61622f8f2",
   "metadata": {},
   "outputs": [],
   "source": [
    "client.close()"
   ]
  },
  {
   "cell_type": "markdown",
   "id": "9322484e-82e3-478d-acf1-55ba6cac710f",
   "metadata": {},
   "source": [
    "**Note:** Dask DataFrame is better for parallelizing pandas"
   ]
  },
  {
   "cell_type": "code",
   "execution_count": null,
   "id": "be27fabb-85da-4586-ac46-1b5ea2a92c58",
   "metadata": {},
   "outputs": [],
   "source": []
  }
 ],
 "metadata": {
  "kernelspec": {
   "display_name": "Python 3 (ipykernel)",
   "language": "python",
   "name": "python3"
  },
  "language_info": {
   "codemirror_mode": {
    "name": "ipython",
    "version": 3
   },
   "file_extension": ".py",
   "mimetype": "text/x-python",
   "name": "python",
   "nbconvert_exporter": "python",
   "pygments_lexer": "ipython3",
   "version": "3.8.12"
  }
 },
 "nbformat": 4,
 "nbformat_minor": 5
}
